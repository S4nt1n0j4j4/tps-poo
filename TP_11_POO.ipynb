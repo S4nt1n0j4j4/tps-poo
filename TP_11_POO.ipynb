{
  "nbformat": 4,
  "nbformat_minor": 0,
  "metadata": {
    "colab": {
      "provenance": [],
      "authorship_tag": "ABX9TyPXUwEra25gxDD7GgR/whRL",
      "include_colab_link": true
    },
    "kernelspec": {
      "name": "python3",
      "display_name": "Python 3"
    },
    "language_info": {
      "name": "python"
    }
  },
  "cells": [
    {
      "cell_type": "markdown",
      "metadata": {
        "id": "view-in-github",
        "colab_type": "text"
      },
      "source": [
        "<a href=\"https://colab.research.google.com/github/S4nt1n0j4j4/tps-poo/blob/main/TP_11_POO.ipynb\" target=\"_parent\"><img src=\"https://colab.research.google.com/assets/colab-badge.svg\" alt=\"Open In Colab\"/></a>"
      ]
    },
    {
      "cell_type": "code",
      "execution_count": null,
      "metadata": {
        "id": "KK35U3YrDUPm"
      },
      "outputs": [],
      "source": [
        "ffrom tkinter import *\n",
        "from tkinter import ttk\n",
        "ventana = Tk() # Crear la ventana principal\n",
        "ventana.geometry(\"300x300\")\n",
        "# agrego un icono en la esquina superior izquierda\n",
        "ventana.iconbitmap(\"img/logo_2_.ico\")\n",
        "# Crear un Label\n",
        "label = Label(ventana, text=\"¡Colegio De la Divina mirericordia!\")\n",
        "label.pack() # Colocar el Label en la ventana\n",
        "# crea un label con una imagen\n",
        "logo = PhotoImage(file=\"img/logo_1_.png\")\n",
        "Label(ventana, image=logo).place(x = 35, y = 40)\n",
        "ventana.mainloop() # Ejecutar el bucle principal de la ventana\n",
        "\n",
        "ffrom tkinter import *\n",
        "from tkinter import ttk\n",
        "ventana = Tk() # Crear la ventana principal\n",
        "ventana.geometry(\"300x300\")\n",
        "# agrego un icono en la esquina superior izquierda\n",
        "ventana.iconbitmap(\"img/logo_2_.ico\")\n",
        "# Crear un Label\n",
        "label = Label(ventana, text=\"¡Colegio De la Divina mirericordia!\")\n",
        "label.pack() # Colocar el Label en la ventana\n",
        "# crea un label con una imagen\n",
        "logo = PhotoImage(file=\"img/logo_1_.png\")\n",
        "Label(ventana, image=logo).place(x = 35, y = 40)\n",
        "ventana.config(bg=\"orange\") # cambio el color de fondo\n",
        "ventana.mainloop() # Ejecutar el bucle principal de la ventana"
      ]
    },
    {
      "cell_type": "code",
      "source": [
        "import tkinter as tk\n",
        "# Crear la ventana principal\n",
        "ventana = tk.Tk()\n",
        "ventana.title(\"Ventana Simple\")\n",
        "ventana.geometry(\"300x200\")\n",
        "# Crear un Label (etiqueta) en la ventana\n",
        "label = tk.Label(ventana, text=\"¡Hola, Mundo!\", font=(\"Arial\", 14))\n",
        "label.pack(pady=20)\n",
        "\n",
        "# Crear un botón que cambia el texto del Label\n",
        "def cambiar_texto():\n",
        "label.config(text=\"¡Texto cambiado!\")\n",
        "button = tk.Button(ventana, text=\"Cambiar Texto\", command=cambiar_texto)\n",
        "button.pack(pady=10)\n",
        "# Iniciar el loop de la aplicación\n",
        "ventana.mainloop()\n"
      ],
      "metadata": {
        "id": "S_KAYe0kEdGy"
      },
      "execution_count": null,
      "outputs": []
    },
    {
      "cell_type": "code",
      "source": [
        "import tkinter as tk\n",
        "# Crear la ventana principal\n",
        "ventana = tk.Tk()\n",
        "ventana.title(\"Ejemplo de Entry\")\n",
        "# Crear un Entry (campo de texto)\n",
        "entry = tk.Entry(ventana, width=30)\n",
        "entry.pack(padx=10, pady=10)\n",
        "\n",
        "# Función para obtener el valor del Entry\n",
        "def mostrar_texto():\n",
        "texto = entry.get()\n",
        "print(\"El texto ingresado es:\", texto)\n",
        "# Botón para imprimir el contenido del Entry\n",
        "btn = tk.Button(ventana, text=\"Mostrar Texto\", command=mostrar_texto)\n",
        "btn.pack(pady=10)\n",
        "# Ejecutar el bucle de la interfaz\n",
        "ventana.mainloop("
      ],
      "metadata": {
        "id": "H3OVXG8WEy5Q"
      },
      "execution_count": null,
      "outputs": []
    },
    {
      "cell_type": "code",
      "source": [
        "# Crear la ventana principal\n",
        "root = tk.Tk()\n",
        "root.title(\"Ejemplo de Radiobutton\")\n",
        "# Variable para almacenar la opción seleccionada\n",
        "opcion = tk.IntVar()\n",
        "# Crear Radiobuttons\n",
        "radio1 = tk.Radiobutton(root, text=\"Opción 1\", variable=opcion, value=1)\n",
        "radio2 = tk.Radiobutton(root, text=\"Opción 2\", variable=opcion, value=2)\n",
        "radio3 = tk.Radiobutton(root, text=\"Opción 3\", variable=opcion, value=3)\n",
        "radio1.pack(padx=10, pady=5)\n",
        "radio2.pack(padx=10, pady=5)\n",
        "radio3.pack(padx=10, pady=5)\n",
        "# Función para mostrar la opción seleccionada\n",
        "def mostrar_opcion():\n",
        "print(\"Opción seleccionada:\", opcion.get())\n",
        "# Botón para mostrar el resultado\n",
        "btn = tk.Button(root, text=\"Mostrar Opción\", command=mostrar_opcion)\n",
        "btn.pack(pady=10)\n",
        "# Ejecutar el bucle de la interfaz\n",
        "root.mainloop()"
      ],
      "metadata": {
        "id": "FtCksXXPE6QT"
      },
      "execution_count": null,
      "outputs": []
    },
    {
      "cell_type": "code",
      "source": [
        "import tkinter as tk\n",
        "# Crear la ventana principal\n",
        "root = tk.Tk()\n",
        "root.title(\"Ejemplo de Checkbutton\")\n",
        "# Variables para almacenar el estado de los checkbuttons\n",
        "opcion1 = tk.IntVar()\n",
        "opcion2 = tk.IntVar()\n",
        "# Crear los Checkbuttons\n",
        "check1 = tk.Checkbutton(root, text=\"Opción 1\", variable=opcion1)\n",
        "check2 = tk.Checkbutton(root, text=\"Opción 2\", variable=opcion2)\n",
        "check1.pack(padx=10, pady=5)\n",
        "check2.pack(padx=10, pady=5)\n",
        "# Función para mostrar el estado de los checkbuttons\n",
        "def mostrar_opciones():\n",
        "print(f\"Opción 1: {opcion1.get()}, Opción 2: {opcion2.get()}\")\n",
        "# Botón para mostrar los resultados\n",
        "btn = tk.Button(root, text=\"Mostrar opciones\", command=mostrar_opciones)\n",
        "btn.pack(pady=10)\n",
        "# Ejecutar el bucle de la interfaz\n",
        "root.mainloop()\n"
      ],
      "metadata": {
        "id": "IICVCqPmGFNe"
      },
      "execution_count": null,
      "outputs": []
    }
  ]
}