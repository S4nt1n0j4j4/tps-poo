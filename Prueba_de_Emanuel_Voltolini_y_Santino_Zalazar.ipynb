{
  "nbformat": 4,
  "nbformat_minor": 0,
  "metadata": {
    "colab": {
      "provenance": [],
      "authorship_tag": "ABX9TyPOnMcF+r8R4v4xVJmAxGRt",
      "include_colab_link": true
    },
    "kernelspec": {
      "name": "python3",
      "display_name": "Python 3"
    },
    "language_info": {
      "name": "python"
    }
  },
  "cells": [
    {
      "cell_type": "markdown",
      "metadata": {
        "id": "view-in-github",
        "colab_type": "text"
      },
      "source": [
        "<a href=\"https://colab.research.google.com/github/S4nt1n0j4j4/tps-poo/blob/main/Prueba_de_Emanuel_Voltolini_y_Santino_Zalazar.ipynb\" target=\"_parent\"><img src=\"https://colab.research.google.com/assets/colab-badge.svg\" alt=\"Open In Colab\"/></a>"
      ]
    },
    {
      "cell_type": "code",
      "execution_count": null,
      "metadata": {
        "id": "f6VGZxGkHLRc"
      },
      "outputs": [],
      "source": [
        "import tkinter as tk\n",
        "from tkinter import ttk\n",
        "\n",
        "class EconomicsMenu:\n",
        "    def __init__(self, master):\n",
        "        self.master = master\n",
        "        master.title(\"Economics Menu\")\n",
        "        master.configure(background='lightblue')\n",
        "        master.geometry(\"600x600\")\n",
        "\n",
        "        label = tk.Label(master, text=\"Bienvenido a la app educativa de economía\", bg='lightblue', font=(\"Arial\", 16))\n",
        "        label.pack(pady=20)\n",
        "\n",
        "        self.logo = tk.PhotoImage(file=\"logosPOO\\logocmd.png\")\n",
        "        label_imagen = ttk.Label(master, image=self.logo, background='lightblue')\n",
        "        label_imagen.pack()\n",
        "\n",
        "        self.economics_button = tk.Button(master, text=\"Economia\", command=self.show_options)\n",
        "        self.economics_button.pack(pady=10)\n",
        "\n",
        "        self.options_frame = tk.Frame(master)\n",
        "        self.options_frame.pack_forget()\n",
        "\n",
        "        self.supply_demand_button = tk.Button(self.options_frame, text=\"Oferta & Demanda\", command=self.show_supply_demand)\n",
        "        self.supply_demand_button.pack(pady=5)\n",
        "\n",
        "        self.interest_rate_button = tk.Button(self.options_frame, text=\"Tasa de interes\", command=self.show_interest_rate)\n",
        "        self.interest_rate_button.pack(pady=5)\n",
        "\n",
        "        self.opportunity_cost_button = tk.Button(self.options_frame, text=\"Costo de oportunidad\", command=self.show_opportunity_cost)\n",
        "        self.opportunity_cost_button.pack(pady=5)\n",
        "\n",
        "    def show_options(self):\n",
        "        self.options_frame.pack()\n",
        "        self.economics_button.config(state=tk.DISABLED)\n",
        "\n",
        "    def show_supply_demand(self):\n",
        "        print(\"En proceso...\")\n",
        "\n",
        "    def show_interest_rate(self):\n",
        "        print(\"En proceso...\")\n",
        "\n",
        "    def show_opportunity_cost(self):\n",
        "        print(\"En proceso...\")\n",
        "\n",
        "root = tk.Tk()\n",
        "menu = EconomicsMenu(root)\n",
        "root.mainloop()"
      ]
    }
  ]
}