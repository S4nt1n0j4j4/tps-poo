{
  "nbformat": 4,
  "nbformat_minor": 0,
  "metadata": {
    "colab": {
      "provenance": [],
      "authorship_tag": "ABX9TyMVYBaOA0UOqL24KdAD2pOW",
      "include_colab_link": true
    },
    "kernelspec": {
      "name": "python3",
      "display_name": "Python 3"
    },
    "language_info": {
      "name": "python"
    }
  },
  "cells": [
    {
      "cell_type": "markdown",
      "metadata": {
        "id": "view-in-github",
        "colab_type": "text"
      },
      "source": [
        "<a href=\"https://colab.research.google.com/github/S4nt1n0j4j4/tps-poo/blob/main/TP_12_Emanuel_Voltolini_y_Santino_Zalazar.ipynb\" target=\"_parent\"><img src=\"https://colab.research.google.com/assets/colab-badge.svg\" alt=\"Open In Colab\"/></a>"
      ]
    },
    {
      "cell_type": "code",
      "execution_count": null,
      "metadata": {
        "id": "-k61dQbRDeDF"
      },
      "outputs": [],
      "source": [
        "import tkinter as tk\n",
        "from tkinter import ttk\n",
        "\n",
        "ventana = tk.Tk()\n",
        "ventana.title(\"Ventana de inicio\")\n",
        "ventana.geometry(\"600x900\")\n",
        "\n",
        "def mostrar_atomo():\n",
        "    pass\n",
        "\n",
        "def btn_cnm():\n",
        "    pass\n",
        "\n",
        "def ingresar_elemento():\n",
        "    elemento = input(\"Que elemento quiere agregar\")\n",
        "    print(\"ELemento agregado\")\n",
        "\n",
        "def btn_ce():\n",
        "    pass\n",
        "\n",
        "def ionization_btn():\n",
        "    pass\n",
        "\n",
        "def electronegatividad_btn():\n",
        "    pass\n",
        "\n",
        "def formar_enlace_covalente():\n",
        "    print(\"Simulando la formación de un enlace covalente...\")\n",
        "\n",
        "def formar_enlace_ionico():\n",
        "    print(\"Simulando la formación de un enlace iónico...\")\n",
        "\n",
        "def realizar_reaccion_intercambio():\n",
        "    print(\"Simulando una reacción de intercambio...\")\n",
        "\n",
        "def mostrar_tabla_periodica():\n",
        "    print(\"Mostrando la tabla periódica...\")\n",
        "\n",
        "label = tk.Label(ventana, text=\"Bienvenido a la app educativa de quimica del Colegio de la Divina Misericordia\")\n",
        "label.pack()\n",
        "\n",
        "logo = tk.PhotoImage(file=\"logosPOO/90.png\")\n",
        "\n",
        "label_imagen = ttk.Label(ventana, image=logo)\n",
        "label_imagen.pack()\n",
        "\n",
        "btn_mostrar_atomo = ttk.Button(ventana, text=\"Mostrar Atomo\", command=mostrar_atomo)\n",
        "btn_mostrar_atomo.pack(pady=10)\n",
        "\n",
        "btn_cnm = ttk.Button(ventana, text=\"Calcular numero masico\", command=btn_cnm)\n",
        "btn_cnm.pack(pady=10)\n",
        "\n",
        "btn_ingresar_elemento = ttk.Button(ventana, text=\"Ingresar elemento\", command=ingresar_elemento)\n",
        "btn_ingresar_elemento.pack(pady=10)\n",
        "\n",
        "btn_ce = ttk.Button(ventana, text=\"Determinar configuracion electronica\", command=btn_ce)\n",
        "btn_ce.pack(pady=10)\n",
        "\n",
        "ionization_btn = ttk.Button(ventana, text=\"Ionización del átomo\", command=ionization_btn)\n",
        "ionization_btn.pack(pady=10)\n",
        "\n",
        "electronegatividad_button = ttk.Button(ventana, text=\"Determinar electronegatividad\", command=electronegatividad_btn)\n",
        "electronegatividad_button.pack(pady=10)\n",
        "\n",
        "boton_covalente = ttk.Button(ventana, text=\"Formar un enlace covalente\", command=formar_enlace_covalente)\n",
        "boton_covalente.pack(pady=10)\n",
        "\n",
        "boton_ionico = ttk.Button(ventana, text=\"Formar un enlace iónico\", command=formar_enlace_ionico)\n",
        "boton_ionico.pack(pady=10)\n",
        "\n",
        "boton_intercambio = ttk.Button(ventana, text=\"Realizar una reacción de intercambio\", command=realizar_reaccion_intercambio)\n",
        "boton_intercambio.pack(pady=10)\n",
        "\n",
        "boton_tabla_periodica = ttk.Button(ventana, text=\"Mostrar tabla Periódica\", command=mostrar_tabla_periodica)\n",
        "boton_tabla_periodica.pack(pady=10)\n",
        "\n",
        "boton_volver = tk.Button(ventana, text=\"Volver\", bg=\"red\", command=ventana.destroy)\n",
        "boton_volver.pack(pady=10)\n",
        "\n",
        "ventana.mainloop()\n",
        "\n"
      ]
    }
  ]
}